{
  "nbformat": 4,
  "nbformat_minor": 0,
  "metadata": {
    "colab": {
      "name": "Untitled4.ipynb",
      "provenance": [],
      "collapsed_sections": []
    },
    "kernelspec": {
      "name": "python3",
      "display_name": "Python 3"
    },
    "language_info": {
      "name": "python"
    }
  },
  "cells": [
    {
      "cell_type": "code",
      "metadata": {
        "colab": {
          "base_uri": "https://localhost:8080/"
        },
        "id": "WCZDYNayQuV_",
        "outputId": "7676d06d-ea3f-473f-9228-c445effe9d95"
      },
      "source": [
        "import json\n",
        "n=int(input('1.Read Inventory \\n2.Add New Items \\n3.Purchasing Items and updating Inventory'))\n",
        "if n>0 and n<4:\n",
        "    file=open('IMS_JSON.json','r')\n",
        "    rs=file.read()\n",
        "    file.close()\n",
        "    rec=json.loads(rs)\n",
        "    if n == 1:\n",
        "        print(rec)\n",
        "\n",
        "    elif n == 2:\n",
        "        newid=str(input(\"Enter Id:\"))\n",
        "        name=input(\"Enter Name:\")\n",
        "        mrp=int(input(\" MRP:\"))\n",
        "        qty=int(input(\" Quantity:\"))\n",
        "\n",
        "        rec[newid] = {'item': name, 'MRP': mrp, 'quantity': qty}\n",
        "\n",
        "        j = json.dumps(rec)\n",
        "\n",
        "        file=open(\"IMS_JSON.json\",'w')\n",
        "        file.write(j)\n",
        "        file.close()\n",
        "\n",
        "    elif n == 3:\n",
        "        id = str(input(\"Enter Id: \"))\n",
        "        qty = int(input(\"Enter quantity: \"))\n",
        "\n",
        "        print(\"Product: \", rec[id]['item'])\n",
        "        print(\"MRP: \",rec[id]['MRP'])\n",
        "        print(\"Billing Amount: \", rec[id]['MRP']* qty)\n",
        "\n",
        "        rec[id]['quantity'] = rec[id]['quantity'] - qty\n",
        "\n",
        "        j=json.dumps(rec)\n",
        "        file=open('IMS.json','w')\n",
        "        file.write(j)\n",
        "        file.close()\n",
        "else:\n",
        "  print(\"\\nEnter Valid Key\")"
      ],
      "execution_count": 6,
      "outputs": [
        {
          "output_type": "stream",
          "name": "stdout",
          "text": [
            "1.Read Inventory \n",
            "2.Add New Items \n",
            "3.Purchasing Items and updating Inventory1\n",
            "{'1145001': {'item': '5-star', 'MRP': 10, 'quantity': 40}, '1145002': {'item': 'sprite', 'MRP': 70, 'quantity': 83}, '1145003': {'item': 'maaza', 'MRP': 80, 'quantity': 94}, '1145004': {'item': 'dosa mix', 'MRP': 50, 'quantity': 21}, '1145006': {'item': 'butterscotch icecream', 'MRP': 45, 'quantity': 27}, '1145007': {'item': 'red pen', 'MRP': 10, 'quantity': 51}, '1145008': {'item': 'black pen', 'MRP': 15, 'quantity': 37}, '1145009': {'item': 'blue pen', 'MRP': 30, 'quantity': 97}, '1145010': {'item': 'dairy milk', 'MRP': 20, 'quantity': 43}, '1145046': {'item': 'dettol liquid', 'MRP': 60, 'quantity': 67}, '1145039': {'item': 'plate', 'MRP': 45, 'quantity': 65}, '1104511': {'item': 'frooti', 'MRP': 55, 'quantity': 55}, '1001': {'item': 'keys', 'MRP': 56, 'quantity': 56}, '1002': {'item': 'phone', 'MRP': 5000, 'quantity': 56}, '1003': {'item': 'laptop', 'MRP': 59000, 'quantity': 58}, '1004': {'item': 'light', 'MRP': 23, 'quantity': 23}, '1005': {'item': 'blanket', 'MRP': 540, 'quantity': 23}, '1006': {'item': 'idly mix', 'MRP': 59, 'quantity': 46}, '1007': {'item': 'mouse', 'MRP': 55, 'quantity': 55}, '1008': {'item': 'earphones', 'MRP': 560, 'quantity': 48}, '1009': {'item': 'monitor', 'MRP': 5600, 'quantity': 45}, '1010': {'item': 'printer', 'MRP': 5660, 'quantity': 45}, '1011': {'item': 'charger', 'MRP': 456, 'quantity': 46}, '1012': {'item': 'screen guard', 'MRP': 49, 'quantity': 49}, '1013': {'item': 'watches', 'MRP': 500, 'quantity': 200}, '1014': {'item': 'soap', 'MRP': 45, 'quantity': 45}, '1015': {'item': 'medimix', 'MRP': 45, 'quantity': 46}, '1016': {'item': 'santoor', 'MRP': 49, 'quantity': 56}, '1017': {'item': 'rin', 'MRP': 19, 'quantity': 19}, '1018': {'item': 'wheel surf', 'MRP': 46, 'quantity': 19}, '1019': {'item': 'cables', 'MRP': 464, 'quantity': 64}, '1020': {'item': 'kinley bottle', 'MRP': 20, 'quantity': 80}}\n"
          ]
        }
      ]
    }
  ]
}